{
 "cells": [
  {
   "cell_type": "code",
   "execution_count": 27,
   "metadata": {},
   "outputs": [],
   "source": [
    "#Import Libraries\n",
    "import pandas as pd"
   ]
  },
  {
   "cell_type": "code",
   "execution_count": 28,
   "metadata": {},
   "outputs": [],
   "source": [
    "#Integer to binary function\n",
    "def binary(num):\n",
    "    converted=[]\n",
    "    while(num):\n",
    "        converted.append(1 if num%2 else 0)\n",
    "        num//=2\n",
    "    converted.reverse()\n",
    "    return converted"
   ]
  },
  {
   "cell_type": "code",
   "execution_count": 29,
   "metadata": {},
   "outputs": [],
   "source": [
    "#Binary to integer function\n",
    "def decimal(b):\n",
    "    ret=0\n",
    "    base=0\n",
    "    b.reverse()\n",
    "    for i in b:\n",
    "        ret+=2**(base)*i\n",
    "        base+=1\n",
    "    return ret"
   ]
  },
  {
   "cell_type": "code",
   "execution_count": 144,
   "metadata": {},
   "outputs": [],
   "source": [
    "#Appends '0' to begenning of X and Y binary list until they are equal\n",
    "def length_checker(x,y):\n",
    "    x.reverse()\n",
    "    y.reverse()\n",
    "    max=len(x) if len(x)>len(y) else len(y)\n",
    "    while(len(x)<max):\n",
    "        x.append(0)\n",
    "    while(len(y)<max):\n",
    "        y.append(0)\n",
    "    x.append(0)\n",
    "    y.append(0)\n",
    "    x.reverse()\n",
    "    y.reverse()\n",
    "    return x,y"
   ]
  },
  {
   "cell_type": "code",
   "execution_count": 143,
   "metadata": {},
   "outputs": [],
   "source": [
    "#Full adder function\n",
    "def halfAdder(x_int,y_int):\n",
    "    X_bin=binary(x_int)\n",
    "    Y_bin=binary(y_int)\n",
    "    X_bin, Y_bin = length_checker(X_bin, Y_bin)\n",
    "    \n",
    "    sum = []\n",
    "    carry = []\n",
    "    #Sum = X xor Y #Carry = X and Y\n",
    "    for i in range(len(X_bin)):\n",
    "        sum.append(X_bin[i] ^ Y_bin[i])\n",
    "        carry.append(X_bin[i] and Y_bin[i])\n",
    "    \n",
    "    print(f\"Input X : {x_int}\")\n",
    "    print(f\"Input Y : {y_int}\\n\")\n",
    "    data=pd.DataFrame({\"X binary\":X_bin,\"Y binary\":Y_bin,\"Sum\":sum,\"Carry\":carry})\n",
    "    data.index.name=\"S no\"\n",
    "    return data"
   ]
  },
  {
   "cell_type": "code",
   "execution_count": 146,
   "metadata": {},
   "outputs": [
    {
     "name": "stdout",
     "output_type": "stream",
     "text": [
      "Input X : 3\n",
      "Input Y : 5\n",
      "\n"
     ]
    },
    {
     "data": {
      "text/html": [
       "<div>\n",
       "<style scoped>\n",
       "    .dataframe tbody tr th:only-of-type {\n",
       "        vertical-align: middle;\n",
       "    }\n",
       "\n",
       "    .dataframe tbody tr th {\n",
       "        vertical-align: top;\n",
       "    }\n",
       "\n",
       "    .dataframe thead th {\n",
       "        text-align: right;\n",
       "    }\n",
       "</style>\n",
       "<table border=\"1\" class=\"dataframe\">\n",
       "  <thead>\n",
       "    <tr style=\"text-align: right;\">\n",
       "      <th></th>\n",
       "      <th>X binary</th>\n",
       "      <th>Y binary</th>\n",
       "      <th>Sum</th>\n",
       "      <th>Carry</th>\n",
       "    </tr>\n",
       "    <tr>\n",
       "      <th>S no</th>\n",
       "      <th></th>\n",
       "      <th></th>\n",
       "      <th></th>\n",
       "      <th></th>\n",
       "    </tr>\n",
       "  </thead>\n",
       "  <tbody>\n",
       "    <tr>\n",
       "      <th>0</th>\n",
       "      <td>0</td>\n",
       "      <td>0</td>\n",
       "      <td>0</td>\n",
       "      <td>0</td>\n",
       "    </tr>\n",
       "    <tr>\n",
       "      <th>1</th>\n",
       "      <td>0</td>\n",
       "      <td>1</td>\n",
       "      <td>1</td>\n",
       "      <td>0</td>\n",
       "    </tr>\n",
       "    <tr>\n",
       "      <th>2</th>\n",
       "      <td>1</td>\n",
       "      <td>0</td>\n",
       "      <td>1</td>\n",
       "      <td>0</td>\n",
       "    </tr>\n",
       "    <tr>\n",
       "      <th>3</th>\n",
       "      <td>1</td>\n",
       "      <td>1</td>\n",
       "      <td>0</td>\n",
       "      <td>1</td>\n",
       "    </tr>\n",
       "  </tbody>\n",
       "</table>\n",
       "</div>"
      ],
      "text/plain": [
       "      X binary  Y binary  Sum  Carry\n",
       "S no                                \n",
       "0            0         0    0      0\n",
       "1            0         1    1      0\n",
       "2            1         0    1      0\n",
       "3            1         1    0      1"
      ]
     },
     "execution_count": 146,
     "metadata": {},
     "output_type": "execute_result"
    }
   ],
   "source": [
    "#X=3 Y=5\n",
    "halfAdder(3,5)"
   ]
  },
  {
   "cell_type": "code",
   "execution_count": 147,
   "metadata": {},
   "outputs": [
    {
     "name": "stdout",
     "output_type": "stream",
     "text": [
      "Input X : 16\n",
      "Input Y : 20\n",
      "\n"
     ]
    },
    {
     "data": {
      "text/html": [
       "<div>\n",
       "<style scoped>\n",
       "    .dataframe tbody tr th:only-of-type {\n",
       "        vertical-align: middle;\n",
       "    }\n",
       "\n",
       "    .dataframe tbody tr th {\n",
       "        vertical-align: top;\n",
       "    }\n",
       "\n",
       "    .dataframe thead th {\n",
       "        text-align: right;\n",
       "    }\n",
       "</style>\n",
       "<table border=\"1\" class=\"dataframe\">\n",
       "  <thead>\n",
       "    <tr style=\"text-align: right;\">\n",
       "      <th></th>\n",
       "      <th>X binary</th>\n",
       "      <th>Y binary</th>\n",
       "      <th>Sum</th>\n",
       "      <th>Carry</th>\n",
       "    </tr>\n",
       "    <tr>\n",
       "      <th>S no</th>\n",
       "      <th></th>\n",
       "      <th></th>\n",
       "      <th></th>\n",
       "      <th></th>\n",
       "    </tr>\n",
       "  </thead>\n",
       "  <tbody>\n",
       "    <tr>\n",
       "      <th>0</th>\n",
       "      <td>0</td>\n",
       "      <td>0</td>\n",
       "      <td>0</td>\n",
       "      <td>0</td>\n",
       "    </tr>\n",
       "    <tr>\n",
       "      <th>1</th>\n",
       "      <td>1</td>\n",
       "      <td>1</td>\n",
       "      <td>0</td>\n",
       "      <td>1</td>\n",
       "    </tr>\n",
       "    <tr>\n",
       "      <th>2</th>\n",
       "      <td>0</td>\n",
       "      <td>0</td>\n",
       "      <td>0</td>\n",
       "      <td>0</td>\n",
       "    </tr>\n",
       "    <tr>\n",
       "      <th>3</th>\n",
       "      <td>0</td>\n",
       "      <td>1</td>\n",
       "      <td>1</td>\n",
       "      <td>0</td>\n",
       "    </tr>\n",
       "    <tr>\n",
       "      <th>4</th>\n",
       "      <td>0</td>\n",
       "      <td>0</td>\n",
       "      <td>0</td>\n",
       "      <td>0</td>\n",
       "    </tr>\n",
       "    <tr>\n",
       "      <th>5</th>\n",
       "      <td>0</td>\n",
       "      <td>0</td>\n",
       "      <td>0</td>\n",
       "      <td>0</td>\n",
       "    </tr>\n",
       "  </tbody>\n",
       "</table>\n",
       "</div>"
      ],
      "text/plain": [
       "      X binary  Y binary  Sum  Carry\n",
       "S no                                \n",
       "0            0         0    0      0\n",
       "1            1         1    0      1\n",
       "2            0         0    0      0\n",
       "3            0         1    1      0\n",
       "4            0         0    0      0\n",
       "5            0         0    0      0"
      ]
     },
     "execution_count": 147,
     "metadata": {},
     "output_type": "execute_result"
    }
   ],
   "source": [
    "#X=16 Y=20\n",
    "halfAdder(16,20)"
   ]
  },
  {
   "cell_type": "code",
   "execution_count": 148,
   "metadata": {},
   "outputs": [
    {
     "name": "stdout",
     "output_type": "stream",
     "text": [
      "Input X : 9\n",
      "Input Y : 11\n",
      "\n"
     ]
    },
    {
     "data": {
      "text/html": [
       "<div>\n",
       "<style scoped>\n",
       "    .dataframe tbody tr th:only-of-type {\n",
       "        vertical-align: middle;\n",
       "    }\n",
       "\n",
       "    .dataframe tbody tr th {\n",
       "        vertical-align: top;\n",
       "    }\n",
       "\n",
       "    .dataframe thead th {\n",
       "        text-align: right;\n",
       "    }\n",
       "</style>\n",
       "<table border=\"1\" class=\"dataframe\">\n",
       "  <thead>\n",
       "    <tr style=\"text-align: right;\">\n",
       "      <th></th>\n",
       "      <th>X binary</th>\n",
       "      <th>Y binary</th>\n",
       "      <th>Sum</th>\n",
       "      <th>Carry</th>\n",
       "    </tr>\n",
       "    <tr>\n",
       "      <th>S no</th>\n",
       "      <th></th>\n",
       "      <th></th>\n",
       "      <th></th>\n",
       "      <th></th>\n",
       "    </tr>\n",
       "  </thead>\n",
       "  <tbody>\n",
       "    <tr>\n",
       "      <th>0</th>\n",
       "      <td>0</td>\n",
       "      <td>0</td>\n",
       "      <td>0</td>\n",
       "      <td>0</td>\n",
       "    </tr>\n",
       "    <tr>\n",
       "      <th>1</th>\n",
       "      <td>1</td>\n",
       "      <td>1</td>\n",
       "      <td>0</td>\n",
       "      <td>1</td>\n",
       "    </tr>\n",
       "    <tr>\n",
       "      <th>2</th>\n",
       "      <td>0</td>\n",
       "      <td>0</td>\n",
       "      <td>0</td>\n",
       "      <td>0</td>\n",
       "    </tr>\n",
       "    <tr>\n",
       "      <th>3</th>\n",
       "      <td>0</td>\n",
       "      <td>1</td>\n",
       "      <td>1</td>\n",
       "      <td>0</td>\n",
       "    </tr>\n",
       "    <tr>\n",
       "      <th>4</th>\n",
       "      <td>1</td>\n",
       "      <td>1</td>\n",
       "      <td>0</td>\n",
       "      <td>1</td>\n",
       "    </tr>\n",
       "  </tbody>\n",
       "</table>\n",
       "</div>"
      ],
      "text/plain": [
       "      X binary  Y binary  Sum  Carry\n",
       "S no                                \n",
       "0            0         0    0      0\n",
       "1            1         1    0      1\n",
       "2            0         0    0      0\n",
       "3            0         1    1      0\n",
       "4            1         1    0      1"
      ]
     },
     "execution_count": 148,
     "metadata": {},
     "output_type": "execute_result"
    }
   ],
   "source": [
    "#X=9 Y=11\n",
    "halfAdder(9,11)"
   ]
  }
 ],
 "metadata": {
  "kernelspec": {
   "display_name": ".kernel",
   "language": "python",
   "name": "python3"
  },
  "language_info": {
   "codemirror_mode": {
    "name": "ipython",
    "version": 3
   },
   "file_extension": ".py",
   "mimetype": "text/x-python",
   "name": "python",
   "nbconvert_exporter": "python",
   "pygments_lexer": "ipython3",
   "version": "3.11.1 (main, Dec 25 2022, 13:51:50) [GCC 11.3.0]"
  },
  "orig_nbformat": 4,
  "vscode": {
   "interpreter": {
    "hash": "7359096e22e65c570720bb594103f9cc4b66b4e826bc4cc0ae250e95ff3efeaa"
   }
  }
 },
 "nbformat": 4,
 "nbformat_minor": 2
}
